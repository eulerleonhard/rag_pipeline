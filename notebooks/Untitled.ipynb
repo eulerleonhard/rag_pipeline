{
 "cells": [
  {
   "cell_type": "code",
   "execution_count": null,
   "id": "4e8f70bc-a630-4c52-b72b-9a15960294b3",
   "metadata": {},
   "outputs": [],
   "source": [
    "!pip install pdfplumber"
   ]
  },
  {
   "cell_type": "code",
   "execution_count": 1,
   "id": "b0cc8dee-397e-4921-b7b6-eae0d71a3e48",
   "metadata": {},
   "outputs": [
    {
     "name": "stdout",
     "output_type": "stream",
     "text": [
      "+--------------------+\n",
      "|               value|\n",
      "+--------------------+\n",
      "|Anh Hung la mot c...|\n",
      "|  Dung nhu anh Hung.|\n",
      "|Hay nem anh Hung ...|\n",
      "+--------------------+\n",
      "\n"
     ]
    }
   ],
   "source": [
    "from pyspark.sql import SparkSession\n",
    "# import pdfplumber\n",
    "from pyspark.sql import Row\n",
    "\n",
    "spark = SparkSession.builder.getOrCreate()\n",
    "\n",
    "# TXT example (from HDFS)\n",
    "txt_df = spark.read.text(\"hdfs://hadoop-namenode:9000/data/sample.txt\")\n",
    "txt_df.show()"
   ]
  },
  {
   "cell_type": "code",
   "execution_count": null,
   "id": "790f6cb9-d307-46db-b32f-f0f22b952af9",
   "metadata": {},
   "outputs": [],
   "source": []
  }
 ],
 "metadata": {
  "kernelspec": {
   "display_name": "Python 3 (ipykernel)",
   "language": "python",
   "name": "python3"
  },
  "language_info": {
   "codemirror_mode": {
    "name": "ipython",
    "version": 3
   },
   "file_extension": ".py",
   "mimetype": "text/x-python",
   "name": "python",
   "nbconvert_exporter": "python",
   "pygments_lexer": "ipython3",
   "version": "3.11.6"
  }
 },
 "nbformat": 4,
 "nbformat_minor": 5
}
